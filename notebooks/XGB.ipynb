{
 "cells": [
  {
   "cell_type": "code",
   "id": "initial_id",
   "metadata": {
    "collapsed": true,
    "ExecuteTime": {
     "end_time": "2025-04-12T02:14:18.122030Z",
     "start_time": "2025-04-12T02:14:17.581042Z"
    }
   },
   "source": [
    "import numpy as np\n",
    "import pandas as pd\n",
    "import tensorflow as tf\n",
    "from sklearn.ensemble import RandomForestClassifier, GradientBoostingClassifier\n",
    "from sklearn.neighbors import KNeighborsClassifier\n",
    "from sklearn.linear_model import LogisticRegression\n",
    "from sklearn.preprocessing import StandardScaler\n",
    "from sklearn.svm import SVC\n",
    "from sklearn.model_selection import train_test_split\n",
    "from sklearn.metrics import confusion_matrix, classification_report\n",
    "from sklearn.metrics import accuracy_score\n",
    "import xgboost as xgb\n",
    "import torch\n",
    "from transformers import Wav2Vec2Processor, Wav2Vec2Model\n",
    "import librosa  # or torchaudio for loading audio\n",
    "import numpy as np\n",
    "import os\n",
    "import torch\n",
    "import pandas as pd\n",
    "import numpy as np\n",
    "from sklearn.model_selection import train_test_split\n",
    "from sklearn.preprocessing import StandardScaler\n",
    "import torch\n",
    "import torch.nn as nn\n",
    "from torch.utils.data import Dataset, DataLoader\n",
    "\n",
    "def get_all_wav_files(directory):\n",
    "    wav_files = []\n",
    "    for dirpath, _, filenames in os.walk(directory):\n",
    "        for filename in filenames:\n",
    "            if filename.endswith('.wav'):\n",
    "                wav_files.append(dirpath + '/' + filename)\n",
    "    return wav_files\n",
    "\n",
    "import librosa\n",
    "\n",
    "# Load pre-trained processor (tokenizer) and model\n",
    "processor = Wav2Vec2Processor.from_pretrained(\"facebook/wav2vec2-base-960h\")\n",
    "wav2vec = Wav2Vec2Model.from_pretrained(\"facebook/wav2vec2-base-960h\")\n",
    "\n",
    "# Move model to GPU if available\n",
    "device = torch.device(\"cuda\" if torch.cuda.is_available() else \"cpu\")\n",
    "wav2vec.to(device)\n",
    "wav2vec.eval()  # evaluation mode (no training in typical usage)\n",
    "\n",
    "def extract_wav2vec_features(audio_path, sr=16000, model=wav2vec, proc=processor, device=device):\n",
    "    # 1. Load raw audio\n",
    "    waveform, original_sr = librosa.load(audio_path, sr=sr, mono=True, duration=20)\n",
    "\n",
    "    # 2. Wav2Vec2 expects a batch of waveforms in float32\n",
    "    inputs = proc(waveform, sampling_rate=sr, return_tensors=\"pt\", padding=True)\n",
    "    # => inputs is a dict with 'input_values' (batch_size, seq_len)\n",
    "\n",
    "    # 3. Move to device (GPU/CPU)\n",
    "    input_values = inputs[\"input_values\"].to(device)  # shape: (1, seq_len)\n",
    "\n",
    "    # 4. Forward pass through Wav2Vec2\n",
    "    with torch.no_grad():\n",
    "        outputs = model(input_values)\n",
    "        # outputs.last_hidden_state: shape (batch_size, time_steps, hidden_size)\n",
    "        # e.g., for facebook/wav2vec2-base-960h => hidden_size=768\n",
    "\n",
    "    # Typically, you might use:\n",
    "    # - outputs.last_hidden_state (per-frame embeddings, shape: (1, T, 768))\n",
    "    # - outputs.hidden_states (if you want all layer outputs)\n",
    "    # Let's use the last hidden state\n",
    "    hidden_states = outputs.last_hidden_state.squeeze(0).cpu().numpy()  # shape: (time_steps, 768)\n",
    "    return hidden_states\n",
    "\n",
    "def clean_labels(s):\n",
    "    return s.split('.')[0]"
   ],
   "outputs": [
    {
     "name": "stderr",
     "output_type": "stream",
     "text": [
      "Some weights of Wav2Vec2Model were not initialized from the model checkpoint at facebook/wav2vec2-base-960h and are newly initialized: ['masked_spec_embed']\n",
      "You should probably TRAIN this model on a down-stream task to be able to use it for predictions and inference.\n"
     ]
    }
   ],
   "execution_count": 2
  },
  {
   "metadata": {
    "jupyter": {
     "is_executing": true
    },
    "ExecuteTime": {
     "start_time": "2025-04-12T00:55:08.665974Z"
    }
   },
   "cell_type": "code",
   "source": [
    "labelMap = {\n",
    "    \"blues\": 0,\n",
    "    \"classical\": 1,\n",
    "    \"country\": 2,\n",
    "    \"disco\": 3,\n",
    "    \"hiphop\": 4,\n",
    "    \"jazz\": 5,\n",
    "    \"metal\": 6,\n",
    "    \"pop\": 7,\n",
    "    \"reggae\": 8,\n",
    "    \"rock\": 9\n",
    "}\n",
    "\n",
    "files = get_all_wav_files('../data/genres/')\n",
    "entries = []\n",
    "labels = []\n",
    "\n",
    "for file in files:\n",
    "    try:\n",
    "        print(file)\n",
    "        filename = file.split('/')[-1]\n",
    "        hidden_states = extract_wav2vec_features(file, model=wav2vec, proc=processor)\n",
    "        X_np = np.array(hidden_states, dtype=np.float32)\n",
    "        entries.append(hidden_states)\n",
    "        labels.append(clean_labels(filename))\n",
    "    except Exception as e:\n",
    "        print(e)\n",
    "        print(f\"Could not process {file}\")"
   ],
   "id": "b3a2fbcedb647672",
   "outputs": [
    {
     "name": "stdout",
     "output_type": "stream",
     "text": [
      "../data/genres/blues/blues.00000.wav\n",
      "../data/genres/blues/blues.00001.wav\n",
      "../data/genres/blues/blues.00002.wav\n"
     ]
    }
   ],
   "execution_count": null
  },
  {
   "metadata": {
    "jupyter": {
     "is_executing": true
    }
   },
   "cell_type": "code",
   "source": [
    "df = pd.DataFrame(np.row_stack(entries))\n",
    "\n",
    "X = df\n",
    "y = list(map(lambda x: labelMap[x], labels))\n",
    "\n",
    "X_train, X_test, y_train, y_test = train_test_split(X, y, random_state=1122)\n",
    "\n",
    "scaler = StandardScaler()\n",
    "\n",
    "X_train_scaled = scaler.fit_transform(X_train)\n",
    "X_test_scaled = scaler.transform(X_test)"
   ],
   "id": "f1e8c7181bfb8db5",
   "outputs": [],
   "execution_count": null
  },
  {
   "metadata": {
    "jupyter": {
     "is_executing": true
    }
   },
   "cell_type": "code",
   "source": [
    "labels = labelMap.values()\n",
    "\n",
    "clf = xgb.XGBClassifier(\n",
    "    objective='multi:softmax',\n",
    "    n_estimators=1000,\n",
    "    learning_rate=0.05,\n",
    "    max_depth=3,\n",
    "    random_state=1122,\n",
    "    eval_metric='mlogloss',\n",
    "    early_stopping_rounds=5,\n",
    "    n_jobs=-1\n",
    ")\n",
    "\n",
    "eval_set = [(X_train_scaled, y_train), (X_test_scaled, y_test)]\n",
    "\n",
    "# clf = SVC(kernel='rbf', random_state=1122)\n",
    "clf.fit(X_train_scaled, y_train, verbose=1, eval_set=eval_set)\n",
    "\n",
    "predictions = clf.predict(X_test_scaled)\n",
    "print('Accuracy:', accuracy_score(y_test, predictions))\n",
    "\n",
    "import matplotlib.pyplot as plt\n",
    "import seaborn as sns\n",
    "\n",
    "def plot_confusion_matrix(y_true, y_pred, labels):\n",
    "    cm = confusion_matrix(y_true, y_pred)\n",
    "    plt.figure(figsize=(10,7))\n",
    "    sns.heatmap(cm, annot=True, fmt='d', xticklabels=labels, yticklabels=labels, cmap='Blues')\n",
    "    plt.xlabel('Predicted')\n",
    "    plt.ylabel('Actual')\n",
    "    plt.title('Multiclass Confusion Matrix')\n",
    "    plt.show()\n",
    "\n",
    "# Call function:\n",
    "plot_confusion_matrix(y_test, predictions, labels)"
   ],
   "id": "cf5fb38ef1b7c522",
   "outputs": [],
   "execution_count": null
  }
 ],
 "metadata": {
  "kernelspec": {
   "display_name": "Python 3",
   "language": "python",
   "name": "python3"
  },
  "language_info": {
   "codemirror_mode": {
    "name": "ipython",
    "version": 2
   },
   "file_extension": ".py",
   "mimetype": "text/x-python",
   "name": "python",
   "nbconvert_exporter": "python",
   "pygments_lexer": "ipython2",
   "version": "2.7.6"
  }
 },
 "nbformat": 4,
 "nbformat_minor": 5
}
