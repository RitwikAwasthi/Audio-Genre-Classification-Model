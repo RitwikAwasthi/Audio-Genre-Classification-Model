{
 "cells": [
  {
   "cell_type": "code",
   "id": "initial_id",
   "metadata": {
    "collapsed": true,
    "ExecuteTime": {
     "end_time": "2025-04-14T22:05:57.031336Z",
     "start_time": "2025-04-14T22:05:57.024146Z"
    }
   },
   "source": [
    "import numpy as np\n",
    "import pandas as pd\n",
    "import tensorflow as tf\n",
    "from sklearn.ensemble import RandomForestClassifier, GradientBoostingClassifier\n",
    "from sklearn.neighbors import KNeighborsClassifier\n",
    "from sklearn.linear_model import LogisticRegression\n",
    "from sklearn.preprocessing import StandardScaler\n",
    "from sklearn.svm import SVC\n",
    "from sklearn.model_selection import train_test_split\n",
    "from sklearn.metrics import confusion_matrix, classification_report\n",
    "from sklearn.metrics import accuracy_score\n",
    "import xgboost as xgb\n",
    "\n",
    "class RBM:\n",
    "    def __init__(self, visible_dim, hidden_dim, learning_rate=0.01):\n",
    "        self.visible_dim = visible_dim\n",
    "        self.hidden_dim = hidden_dim\n",
    "        self.learning_rate = learning_rate\n",
    "\n",
    "        # Initialize weights and biases\n",
    "        self.weights = tf.Variable(tf.random.normal([visible_dim, hidden_dim], mean=0.0, stddev=0.01), dtype=tf.float32)\n",
    "        self.visible_bias = tf.Variable(tf.zeros([visible_dim]), dtype=tf.float32)\n",
    "        self.hidden_bias = tf.Variable(tf.zeros([hidden_dim]), dtype=tf.float32)\n",
    "\n",
    "    # Gibbs sampling steps\n",
    "    def sample_hidden(self, visible):\n",
    "        hidden_probs = tf.nn.sigmoid(tf.matmul(visible, self.weights) + self.hidden_bias)\n",
    "        hidden_states = tf.nn.relu(tf.sign(hidden_probs - tf.random.uniform(tf.shape(hidden_probs))))\n",
    "        return hidden_states, hidden_probs\n",
    "\n",
    "    def sample_visible(self, hidden):\n",
    "        visible_probs = tf.nn.sigmoid(tf.matmul(hidden, tf.transpose(self.weights)) + self.visible_bias)\n",
    "        visible_states = tf.nn.relu(tf.sign(visible_probs - tf.random.uniform(tf.shape(visible_probs))))\n",
    "        return visible_states, visible_probs\n",
    "\n",
    "    # Contrastive divergence\n",
    "    def contrastive_divergence(self, input_data, k=1):\n",
    "        visible_states = input_data\n",
    "\n",
    "        # Positive phase\n",
    "        hidden_states_pos, hidden_probs_pos = self.sample_hidden(visible_states)\n",
    "\n",
    "        # Gibbs sampling for k steps\n",
    "        hidden_states = hidden_states_pos\n",
    "        for _ in range(k):\n",
    "            visible_states, _ = self.sample_visible(hidden_states)\n",
    "            hidden_states, hidden_probs_neg = self.sample_hidden(visible_states)\n",
    "\n",
    "        # Update weights and biases\n",
    "        positive_grad = tf.matmul(tf.transpose(input_data), hidden_probs_pos)\n",
    "        negative_grad = tf.matmul(tf.transpose(visible_states), hidden_probs_neg)\n",
    "\n",
    "        self.weights.assign_add(self.learning_rate * (positive_grad - negative_grad) / tf.cast(tf.shape(input_data)[0], tf.float32))\n",
    "        self.visible_bias.assign_add(self.learning_rate * tf.reduce_mean(input_data - visible_states, axis=0))\n",
    "        self.hidden_bias.assign_add(self.learning_rate * tf.reduce_mean(hidden_probs_pos - hidden_probs_neg, axis=0))\n",
    "\n",
    "    # Training function\n",
    "    def train(self, data, epochs=10, batch_size=64, k=1):\n",
    "        dataset = tf.data.Dataset.from_tensor_slices(data).batch(batch_size)\n",
    "        for epoch in range(epochs):\n",
    "            for batch in dataset:\n",
    "                self.contrastive_divergence(batch, k)\n",
    "            print(f'Epoch {epoch+1} completed.')\n",
    "\n",
    "    # Transform visible data to hidden representation\n",
    "    def transform(self, data):\n",
    "        _, hidden_probs = self.sample_hidden(data)\n",
    "        return hidden_probs.numpy()"
   ],
   "outputs": [],
   "execution_count": 78
  },
  {
   "metadata": {
    "ExecuteTime": {
     "end_time": "2025-04-14T23:45:59.228826Z",
     "start_time": "2025-04-14T23:45:59.094663Z"
    }
   },
   "cell_type": "code",
   "source": "df = pd.read_csv('../data/files/audio_classification_3sec_big.csv')",
   "id": "fe4d6034a23c7b85",
   "outputs": [],
   "execution_count": 153
  },
  {
   "metadata": {
    "ExecuteTime": {
     "end_time": "2025-04-14T23:45:59.847691Z",
     "start_time": "2025-04-14T23:45:59.821364Z"
    }
   },
   "cell_type": "code",
   "source": [
    "from sklearn.model_selection import train_test_split\n",
    "from sklearn.preprocessing import MinMaxScaler\n",
    "\n",
    "def clean_labels(s):\n",
    "    return s.split('.')[0]\n",
    "\n",
    "# df[df.columns[1]] = df[df.columns[1]].apply(lambda x: clean_labels(x))\n",
    "# df.head(10)\n",
    "\n",
    "labelMap = {\n",
    "    \"blues\": 0,\n",
    "    \"classical\": 1,\n",
    "    \"country\": 2,\n",
    "    \"disco\": 3,\n",
    "    \"hiphop\": 4,\n",
    "    \"jazz\": 5,\n",
    "    \"metal\": 6,\n",
    "    \"pop\": 7,\n",
    "    \"reggae\": 8,\n",
    "    \"rock\": 9\n",
    "}\n",
    "\n",
    "X = df.drop([df.columns[0]], axis=1)\n",
    "y = list(map(lambda x: labelMap[x], df[df.columns[0]]))\n",
    "\n",
    "X_train, X_test, y_train, y_test = train_test_split(X, y, random_state=1122)\n",
    "\n",
    "scaler = MinMaxScaler()\n",
    "\n",
    "X_train_scaled = scaler.fit_transform(X_train)\n",
    "X_test_scaled = scaler.transform(X_test)"
   ],
   "id": "e13109b349c0c9b",
   "outputs": [],
   "execution_count": 154
  },
  {
   "metadata": {
    "jupyter": {
     "is_executing": true
    },
    "ExecuteTime": {
     "start_time": "2025-04-14T23:53:23.855555Z"
    }
   },
   "cell_type": "code",
   "source": [
    "labels = labelMap.values()\n",
    "\n",
    "clf = xgb.XGBClassifier(\n",
    "    objective='multi:softmax',\n",
    "    n_estimators=3500,\n",
    "    learning_rate=0.1,\n",
    "    max_depth=2,\n",
    "    booster=\"gbtree\",\n",
    "    random_state=1122,\n",
    "    eval_metric='mlogloss',\n",
    "    early_stopping_rounds=15,\n",
    "    device='cuda',\n",
    "    n_jobs=-1\n",
    ")\n",
    "\n",
    "eval_set = [(X_train_scaled, y_train), (X_test_scaled, y_test)]\n",
    "clf.fit(X_train_scaled, y_train, eval_set=eval_set)\n",
    "\n",
    "predictions = clf.predict(X_test_scaled)\n",
    "print('Accuracy:', accuracy_score(y_test, predictions))\n",
    "\n",
    "import matplotlib.pyplot as plt\n",
    "import seaborn as sns\n",
    "\n",
    "def plot_confusion_matrix(y_true, y_pred, labels):\n",
    "    cm = confusion_matrix(y_true, y_pred)\n",
    "    plt.figure(figsize=(10,7))\n",
    "    sns.heatmap(cm, annot=True, fmt='d', xticklabels=labels, yticklabels=labels, cmap='Blues')\n",
    "    plt.xlabel('Predicted')\n",
    "    plt.ylabel('Actual')\n",
    "    plt.title('Multiclass Confusion Matrix')\n",
    "    plt.show()\n",
    "\n",
    "# Call function:\n",
    "plot_confusion_matrix(y_test, predictions, labels)"
   ],
   "id": "8a4416083c242604",
   "outputs": [
    {
     "name": "stdout",
     "output_type": "stream",
     "text": [
      "[0]\tvalidation_0-mlogloss:2.18795\tvalidation_1-mlogloss:2.18551\n",
      "[1]\tvalidation_0-mlogloss:2.09757\tvalidation_1-mlogloss:2.09375\n",
      "[2]\tvalidation_0-mlogloss:2.02061\tvalidation_1-mlogloss:2.01970\n",
      "[3]\tvalidation_0-mlogloss:1.95229\tvalidation_1-mlogloss:1.95261\n",
      "[4]\tvalidation_0-mlogloss:1.89354\tvalidation_1-mlogloss:1.89550\n",
      "[5]\tvalidation_0-mlogloss:1.83827\tvalidation_1-mlogloss:1.83962\n",
      "[6]\tvalidation_0-mlogloss:1.78930\tvalidation_1-mlogloss:1.79231\n",
      "[7]\tvalidation_0-mlogloss:1.74279\tvalidation_1-mlogloss:1.74791\n",
      "[8]\tvalidation_0-mlogloss:1.70095\tvalidation_1-mlogloss:1.70631\n",
      "[9]\tvalidation_0-mlogloss:1.66101\tvalidation_1-mlogloss:1.66707\n",
      "[10]\tvalidation_0-mlogloss:1.62270\tvalidation_1-mlogloss:1.63078\n",
      "[11]\tvalidation_0-mlogloss:1.58904\tvalidation_1-mlogloss:1.59800\n",
      "[12]\tvalidation_0-mlogloss:1.55714\tvalidation_1-mlogloss:1.56756\n",
      "[13]\tvalidation_0-mlogloss:1.52663\tvalidation_1-mlogloss:1.53866\n",
      "[14]\tvalidation_0-mlogloss:1.49922\tvalidation_1-mlogloss:1.51302\n",
      "[15]\tvalidation_0-mlogloss:1.47228\tvalidation_1-mlogloss:1.48727\n",
      "[16]\tvalidation_0-mlogloss:1.44592\tvalidation_1-mlogloss:1.46243\n",
      "[17]\tvalidation_0-mlogloss:1.42200\tvalidation_1-mlogloss:1.43893\n",
      "[18]\tvalidation_0-mlogloss:1.39899\tvalidation_1-mlogloss:1.41715\n",
      "[19]\tvalidation_0-mlogloss:1.37540\tvalidation_1-mlogloss:1.39503\n",
      "[20]\tvalidation_0-mlogloss:1.35483\tvalidation_1-mlogloss:1.37506\n",
      "[21]\tvalidation_0-mlogloss:1.33555\tvalidation_1-mlogloss:1.35674\n",
      "[22]\tvalidation_0-mlogloss:1.31655\tvalidation_1-mlogloss:1.33933\n",
      "[23]\tvalidation_0-mlogloss:1.29782\tvalidation_1-mlogloss:1.32256\n",
      "[24]\tvalidation_0-mlogloss:1.28050\tvalidation_1-mlogloss:1.30713\n",
      "[25]\tvalidation_0-mlogloss:1.26256\tvalidation_1-mlogloss:1.29051\n",
      "[26]\tvalidation_0-mlogloss:1.24625\tvalidation_1-mlogloss:1.27535\n",
      "[27]\tvalidation_0-mlogloss:1.22983\tvalidation_1-mlogloss:1.26029\n",
      "[28]\tvalidation_0-mlogloss:1.21450\tvalidation_1-mlogloss:1.24605\n",
      "[29]\tvalidation_0-mlogloss:1.19967\tvalidation_1-mlogloss:1.23208\n",
      "[30]\tvalidation_0-mlogloss:1.18493\tvalidation_1-mlogloss:1.21886\n",
      "[31]\tvalidation_0-mlogloss:1.17105\tvalidation_1-mlogloss:1.20592\n",
      "[32]\tvalidation_0-mlogloss:1.15814\tvalidation_1-mlogloss:1.19431\n",
      "[33]\tvalidation_0-mlogloss:1.14494\tvalidation_1-mlogloss:1.18279\n",
      "[34]\tvalidation_0-mlogloss:1.13151\tvalidation_1-mlogloss:1.17044\n",
      "[35]\tvalidation_0-mlogloss:1.11959\tvalidation_1-mlogloss:1.16042\n",
      "[36]\tvalidation_0-mlogloss:1.10839\tvalidation_1-mlogloss:1.15000\n",
      "[37]\tvalidation_0-mlogloss:1.09689\tvalidation_1-mlogloss:1.13936\n",
      "[38]\tvalidation_0-mlogloss:1.08638\tvalidation_1-mlogloss:1.12975\n",
      "[39]\tvalidation_0-mlogloss:1.07508\tvalidation_1-mlogloss:1.12019\n",
      "[40]\tvalidation_0-mlogloss:1.06397\tvalidation_1-mlogloss:1.10963\n",
      "[41]\tvalidation_0-mlogloss:1.05398\tvalidation_1-mlogloss:1.10124\n",
      "[42]\tvalidation_0-mlogloss:1.04367\tvalidation_1-mlogloss:1.09259\n",
      "[43]\tvalidation_0-mlogloss:1.03257\tvalidation_1-mlogloss:1.08267\n",
      "[44]\tvalidation_0-mlogloss:1.02292\tvalidation_1-mlogloss:1.07357\n",
      "[45]\tvalidation_0-mlogloss:1.01372\tvalidation_1-mlogloss:1.06501\n",
      "[46]\tvalidation_0-mlogloss:1.00443\tvalidation_1-mlogloss:1.05735\n",
      "[47]\tvalidation_0-mlogloss:0.99557\tvalidation_1-mlogloss:1.04960\n",
      "[48]\tvalidation_0-mlogloss:0.98631\tvalidation_1-mlogloss:1.04174\n",
      "[49]\tvalidation_0-mlogloss:0.97799\tvalidation_1-mlogloss:1.03454\n",
      "[50]\tvalidation_0-mlogloss:0.96944\tvalidation_1-mlogloss:1.02736\n",
      "[51]\tvalidation_0-mlogloss:0.96155\tvalidation_1-mlogloss:1.02044\n",
      "[52]\tvalidation_0-mlogloss:0.95299\tvalidation_1-mlogloss:1.01322\n",
      "[53]\tvalidation_0-mlogloss:0.94493\tvalidation_1-mlogloss:1.00680\n",
      "[54]\tvalidation_0-mlogloss:0.93672\tvalidation_1-mlogloss:1.00008\n",
      "[55]\tvalidation_0-mlogloss:0.92938\tvalidation_1-mlogloss:0.99436\n",
      "[56]\tvalidation_0-mlogloss:0.92243\tvalidation_1-mlogloss:0.98835\n",
      "[57]\tvalidation_0-mlogloss:0.91525\tvalidation_1-mlogloss:0.98146\n",
      "[58]\tvalidation_0-mlogloss:0.90751\tvalidation_1-mlogloss:0.97462\n",
      "[59]\tvalidation_0-mlogloss:0.90028\tvalidation_1-mlogloss:0.96904\n",
      "[60]\tvalidation_0-mlogloss:0.89333\tvalidation_1-mlogloss:0.96352\n",
      "[61]\tvalidation_0-mlogloss:0.88653\tvalidation_1-mlogloss:0.95795\n",
      "[62]\tvalidation_0-mlogloss:0.87989\tvalidation_1-mlogloss:0.95265\n",
      "[63]\tvalidation_0-mlogloss:0.87346\tvalidation_1-mlogloss:0.94741\n",
      "[64]\tvalidation_0-mlogloss:0.86764\tvalidation_1-mlogloss:0.94199\n",
      "[65]\tvalidation_0-mlogloss:0.86184\tvalidation_1-mlogloss:0.93663\n",
      "[66]\tvalidation_0-mlogloss:0.85555\tvalidation_1-mlogloss:0.93145\n",
      "[67]\tvalidation_0-mlogloss:0.84951\tvalidation_1-mlogloss:0.92687\n",
      "[68]\tvalidation_0-mlogloss:0.84378\tvalidation_1-mlogloss:0.92239\n",
      "[69]\tvalidation_0-mlogloss:0.83781\tvalidation_1-mlogloss:0.91712\n",
      "[70]\tvalidation_0-mlogloss:0.83236\tvalidation_1-mlogloss:0.91259\n",
      "[71]\tvalidation_0-mlogloss:0.82625\tvalidation_1-mlogloss:0.90784\n",
      "[72]\tvalidation_0-mlogloss:0.82059\tvalidation_1-mlogloss:0.90275\n",
      "[73]\tvalidation_0-mlogloss:0.81529\tvalidation_1-mlogloss:0.89845\n",
      "[74]\tvalidation_0-mlogloss:0.80996\tvalidation_1-mlogloss:0.89412\n",
      "[75]\tvalidation_0-mlogloss:0.80436\tvalidation_1-mlogloss:0.88978\n",
      "[76]\tvalidation_0-mlogloss:0.79919\tvalidation_1-mlogloss:0.88545\n",
      "[77]\tvalidation_0-mlogloss:0.79408\tvalidation_1-mlogloss:0.88123\n",
      "[78]\tvalidation_0-mlogloss:0.78880\tvalidation_1-mlogloss:0.87743\n",
      "[79]\tvalidation_0-mlogloss:0.78419\tvalidation_1-mlogloss:0.87311\n",
      "[80]\tvalidation_0-mlogloss:0.77979\tvalidation_1-mlogloss:0.86968\n",
      "[81]\tvalidation_0-mlogloss:0.77542\tvalidation_1-mlogloss:0.86620\n",
      "[82]\tvalidation_0-mlogloss:0.77081\tvalidation_1-mlogloss:0.86218\n",
      "[83]\tvalidation_0-mlogloss:0.76590\tvalidation_1-mlogloss:0.85787\n",
      "[84]\tvalidation_0-mlogloss:0.76116\tvalidation_1-mlogloss:0.85369\n",
      "[85]\tvalidation_0-mlogloss:0.75668\tvalidation_1-mlogloss:0.84981\n",
      "[86]\tvalidation_0-mlogloss:0.75219\tvalidation_1-mlogloss:0.84628\n",
      "[87]\tvalidation_0-mlogloss:0.74739\tvalidation_1-mlogloss:0.84236\n",
      "[88]\tvalidation_0-mlogloss:0.74283\tvalidation_1-mlogloss:0.83910\n",
      "[89]\tvalidation_0-mlogloss:0.73846\tvalidation_1-mlogloss:0.83546\n",
      "[90]\tvalidation_0-mlogloss:0.73442\tvalidation_1-mlogloss:0.83192\n",
      "[91]\tvalidation_0-mlogloss:0.73045\tvalidation_1-mlogloss:0.82928\n",
      "[92]\tvalidation_0-mlogloss:0.72651\tvalidation_1-mlogloss:0.82628\n",
      "[93]\tvalidation_0-mlogloss:0.72230\tvalidation_1-mlogloss:0.82254\n",
      "[94]\tvalidation_0-mlogloss:0.71826\tvalidation_1-mlogloss:0.81935\n",
      "[95]\tvalidation_0-mlogloss:0.71427\tvalidation_1-mlogloss:0.81628\n",
      "[96]\tvalidation_0-mlogloss:0.71016\tvalidation_1-mlogloss:0.81290\n",
      "[97]\tvalidation_0-mlogloss:0.70595\tvalidation_1-mlogloss:0.80977\n",
      "[98]\tvalidation_0-mlogloss:0.70244\tvalidation_1-mlogloss:0.80729\n",
      "[99]\tvalidation_0-mlogloss:0.69871\tvalidation_1-mlogloss:0.80452\n",
      "[100]\tvalidation_0-mlogloss:0.69472\tvalidation_1-mlogloss:0.80140\n",
      "[101]\tvalidation_0-mlogloss:0.69089\tvalidation_1-mlogloss:0.79807\n",
      "[102]\tvalidation_0-mlogloss:0.68730\tvalidation_1-mlogloss:0.79573\n",
      "[103]\tvalidation_0-mlogloss:0.68343\tvalidation_1-mlogloss:0.79225\n",
      "[104]\tvalidation_0-mlogloss:0.67988\tvalidation_1-mlogloss:0.78916\n",
      "[105]\tvalidation_0-mlogloss:0.67637\tvalidation_1-mlogloss:0.78651\n",
      "[106]\tvalidation_0-mlogloss:0.67294\tvalidation_1-mlogloss:0.78363\n",
      "[107]\tvalidation_0-mlogloss:0.66918\tvalidation_1-mlogloss:0.78040\n",
      "[108]\tvalidation_0-mlogloss:0.66556\tvalidation_1-mlogloss:0.77764\n",
      "[109]\tvalidation_0-mlogloss:0.66242\tvalidation_1-mlogloss:0.77535\n",
      "[110]\tvalidation_0-mlogloss:0.65894\tvalidation_1-mlogloss:0.77258\n",
      "[111]\tvalidation_0-mlogloss:0.65532\tvalidation_1-mlogloss:0.77004\n",
      "[112]\tvalidation_0-mlogloss:0.65215\tvalidation_1-mlogloss:0.76780\n",
      "[113]\tvalidation_0-mlogloss:0.64879\tvalidation_1-mlogloss:0.76557\n",
      "[114]\tvalidation_0-mlogloss:0.64544\tvalidation_1-mlogloss:0.76311\n",
      "[115]\tvalidation_0-mlogloss:0.64222\tvalidation_1-mlogloss:0.76078\n",
      "[116]\tvalidation_0-mlogloss:0.63917\tvalidation_1-mlogloss:0.75814\n",
      "[117]\tvalidation_0-mlogloss:0.63571\tvalidation_1-mlogloss:0.75541\n",
      "[118]\tvalidation_0-mlogloss:0.63272\tvalidation_1-mlogloss:0.75295\n",
      "[119]\tvalidation_0-mlogloss:0.62943\tvalidation_1-mlogloss:0.75064\n",
      "[120]\tvalidation_0-mlogloss:0.62644\tvalidation_1-mlogloss:0.74825\n",
      "[121]\tvalidation_0-mlogloss:0.62334\tvalidation_1-mlogloss:0.74591\n",
      "[122]\tvalidation_0-mlogloss:0.62058\tvalidation_1-mlogloss:0.74408\n",
      "[123]\tvalidation_0-mlogloss:0.61756\tvalidation_1-mlogloss:0.74202\n",
      "[124]\tvalidation_0-mlogloss:0.61469\tvalidation_1-mlogloss:0.73957\n",
      "[125]\tvalidation_0-mlogloss:0.61187\tvalidation_1-mlogloss:0.73747\n",
      "[126]\tvalidation_0-mlogloss:0.60898\tvalidation_1-mlogloss:0.73556\n",
      "[127]\tvalidation_0-mlogloss:0.60623\tvalidation_1-mlogloss:0.73347\n",
      "[128]\tvalidation_0-mlogloss:0.60328\tvalidation_1-mlogloss:0.73156\n",
      "[129]\tvalidation_0-mlogloss:0.60023\tvalidation_1-mlogloss:0.72950\n",
      "[130]\tvalidation_0-mlogloss:0.59724\tvalidation_1-mlogloss:0.72719\n",
      "[131]\tvalidation_0-mlogloss:0.59478\tvalidation_1-mlogloss:0.72521\n",
      "[132]\tvalidation_0-mlogloss:0.59199\tvalidation_1-mlogloss:0.72323\n",
      "[133]\tvalidation_0-mlogloss:0.58907\tvalidation_1-mlogloss:0.72098\n",
      "[134]\tvalidation_0-mlogloss:0.58647\tvalidation_1-mlogloss:0.71912\n",
      "[135]\tvalidation_0-mlogloss:0.58383\tvalidation_1-mlogloss:0.71701\n",
      "[136]\tvalidation_0-mlogloss:0.58104\tvalidation_1-mlogloss:0.71494\n",
      "[137]\tvalidation_0-mlogloss:0.57844\tvalidation_1-mlogloss:0.71321\n",
      "[138]\tvalidation_0-mlogloss:0.57558\tvalidation_1-mlogloss:0.71103\n",
      "[139]\tvalidation_0-mlogloss:0.57295\tvalidation_1-mlogloss:0.70913\n",
      "[140]\tvalidation_0-mlogloss:0.57045\tvalidation_1-mlogloss:0.70724\n",
      "[141]\tvalidation_0-mlogloss:0.56801\tvalidation_1-mlogloss:0.70558\n",
      "[142]\tvalidation_0-mlogloss:0.56555\tvalidation_1-mlogloss:0.70365\n",
      "[143]\tvalidation_0-mlogloss:0.56315\tvalidation_1-mlogloss:0.70181\n",
      "[144]\tvalidation_0-mlogloss:0.56072\tvalidation_1-mlogloss:0.70008\n",
      "[145]\tvalidation_0-mlogloss:0.55829\tvalidation_1-mlogloss:0.69847\n",
      "[146]\tvalidation_0-mlogloss:0.55565\tvalidation_1-mlogloss:0.69636\n",
      "[147]\tvalidation_0-mlogloss:0.55325\tvalidation_1-mlogloss:0.69466\n",
      "[148]\tvalidation_0-mlogloss:0.55081\tvalidation_1-mlogloss:0.69298\n",
      "[149]\tvalidation_0-mlogloss:0.54854\tvalidation_1-mlogloss:0.69147\n",
      "[150]\tvalidation_0-mlogloss:0.54615\tvalidation_1-mlogloss:0.68977\n",
      "[151]\tvalidation_0-mlogloss:0.54389\tvalidation_1-mlogloss:0.68814\n",
      "[152]\tvalidation_0-mlogloss:0.54146\tvalidation_1-mlogloss:0.68598\n",
      "[153]\tvalidation_0-mlogloss:0.53919\tvalidation_1-mlogloss:0.68435\n",
      "[154]\tvalidation_0-mlogloss:0.53682\tvalidation_1-mlogloss:0.68275\n",
      "[155]\tvalidation_0-mlogloss:0.53461\tvalidation_1-mlogloss:0.68135\n",
      "[156]\tvalidation_0-mlogloss:0.53260\tvalidation_1-mlogloss:0.68006\n",
      "[157]\tvalidation_0-mlogloss:0.53030\tvalidation_1-mlogloss:0.67850\n",
      "[158]\tvalidation_0-mlogloss:0.52812\tvalidation_1-mlogloss:0.67694\n",
      "[159]\tvalidation_0-mlogloss:0.52565\tvalidation_1-mlogloss:0.67505\n",
      "[160]\tvalidation_0-mlogloss:0.52331\tvalidation_1-mlogloss:0.67311\n",
      "[161]\tvalidation_0-mlogloss:0.52071\tvalidation_1-mlogloss:0.67116\n",
      "[162]\tvalidation_0-mlogloss:0.51875\tvalidation_1-mlogloss:0.66962\n",
      "[163]\tvalidation_0-mlogloss:0.51659\tvalidation_1-mlogloss:0.66806\n",
      "[164]\tvalidation_0-mlogloss:0.51436\tvalidation_1-mlogloss:0.66678\n",
      "[165]\tvalidation_0-mlogloss:0.51224\tvalidation_1-mlogloss:0.66524\n",
      "[166]\tvalidation_0-mlogloss:0.51010\tvalidation_1-mlogloss:0.66344\n",
      "[167]\tvalidation_0-mlogloss:0.50807\tvalidation_1-mlogloss:0.66202\n",
      "[168]\tvalidation_0-mlogloss:0.50599\tvalidation_1-mlogloss:0.66066\n",
      "[169]\tvalidation_0-mlogloss:0.50408\tvalidation_1-mlogloss:0.65914\n",
      "[170]\tvalidation_0-mlogloss:0.50206\tvalidation_1-mlogloss:0.65780\n",
      "[171]\tvalidation_0-mlogloss:0.50001\tvalidation_1-mlogloss:0.65630\n",
      "[172]\tvalidation_0-mlogloss:0.49806\tvalidation_1-mlogloss:0.65496\n",
      "[173]\tvalidation_0-mlogloss:0.49617\tvalidation_1-mlogloss:0.65349\n",
      "[174]\tvalidation_0-mlogloss:0.49420\tvalidation_1-mlogloss:0.65199\n",
      "[175]\tvalidation_0-mlogloss:0.49209\tvalidation_1-mlogloss:0.65056\n",
      "[176]\tvalidation_0-mlogloss:0.49001\tvalidation_1-mlogloss:0.64909\n",
      "[177]\tvalidation_0-mlogloss:0.48804\tvalidation_1-mlogloss:0.64787\n",
      "[178]\tvalidation_0-mlogloss:0.48610\tvalidation_1-mlogloss:0.64622\n",
      "[179]\tvalidation_0-mlogloss:0.48432\tvalidation_1-mlogloss:0.64500\n",
      "[180]\tvalidation_0-mlogloss:0.48248\tvalidation_1-mlogloss:0.64366\n",
      "[181]\tvalidation_0-mlogloss:0.48056\tvalidation_1-mlogloss:0.64225\n",
      "[182]\tvalidation_0-mlogloss:0.47860\tvalidation_1-mlogloss:0.64085\n",
      "[183]\tvalidation_0-mlogloss:0.47686\tvalidation_1-mlogloss:0.63958\n",
      "[184]\tvalidation_0-mlogloss:0.47500\tvalidation_1-mlogloss:0.63835\n",
      "[185]\tvalidation_0-mlogloss:0.47332\tvalidation_1-mlogloss:0.63707\n",
      "[186]\tvalidation_0-mlogloss:0.47140\tvalidation_1-mlogloss:0.63582\n",
      "[187]\tvalidation_0-mlogloss:0.46935\tvalidation_1-mlogloss:0.63419\n",
      "[188]\tvalidation_0-mlogloss:0.46742\tvalidation_1-mlogloss:0.63288\n",
      "[189]\tvalidation_0-mlogloss:0.46568\tvalidation_1-mlogloss:0.63169\n",
      "[190]\tvalidation_0-mlogloss:0.46399\tvalidation_1-mlogloss:0.63055\n",
      "[191]\tvalidation_0-mlogloss:0.46192\tvalidation_1-mlogloss:0.62904\n",
      "[192]\tvalidation_0-mlogloss:0.46022\tvalidation_1-mlogloss:0.62758\n",
      "[193]\tvalidation_0-mlogloss:0.45867\tvalidation_1-mlogloss:0.62638\n",
      "[194]\tvalidation_0-mlogloss:0.45684\tvalidation_1-mlogloss:0.62499\n",
      "[195]\tvalidation_0-mlogloss:0.45500\tvalidation_1-mlogloss:0.62372\n",
      "[196]\tvalidation_0-mlogloss:0.45326\tvalidation_1-mlogloss:0.62244\n",
      "[197]\tvalidation_0-mlogloss:0.45145\tvalidation_1-mlogloss:0.62134\n",
      "[198]\tvalidation_0-mlogloss:0.44967\tvalidation_1-mlogloss:0.62008\n",
      "[199]\tvalidation_0-mlogloss:0.44812\tvalidation_1-mlogloss:0.61922\n",
      "[200]\tvalidation_0-mlogloss:0.44654\tvalidation_1-mlogloss:0.61791\n",
      "[201]\tvalidation_0-mlogloss:0.44459\tvalidation_1-mlogloss:0.61660\n",
      "[202]\tvalidation_0-mlogloss:0.44284\tvalidation_1-mlogloss:0.61530\n",
      "[203]\tvalidation_0-mlogloss:0.44128\tvalidation_1-mlogloss:0.61426\n",
      "[204]\tvalidation_0-mlogloss:0.43972\tvalidation_1-mlogloss:0.61331\n",
      "[205]\tvalidation_0-mlogloss:0.43800\tvalidation_1-mlogloss:0.61198\n",
      "[206]\tvalidation_0-mlogloss:0.43655\tvalidation_1-mlogloss:0.61087\n",
      "[207]\tvalidation_0-mlogloss:0.43506\tvalidation_1-mlogloss:0.60990\n",
      "[208]\tvalidation_0-mlogloss:0.43324\tvalidation_1-mlogloss:0.60838\n",
      "[209]\tvalidation_0-mlogloss:0.43164\tvalidation_1-mlogloss:0.60732\n",
      "[210]\tvalidation_0-mlogloss:0.43006\tvalidation_1-mlogloss:0.60632\n",
      "[211]\tvalidation_0-mlogloss:0.42824\tvalidation_1-mlogloss:0.60481\n",
      "[212]\tvalidation_0-mlogloss:0.42689\tvalidation_1-mlogloss:0.60365\n",
      "[213]\tvalidation_0-mlogloss:0.42537\tvalidation_1-mlogloss:0.60260\n",
      "[214]\tvalidation_0-mlogloss:0.42376\tvalidation_1-mlogloss:0.60130\n",
      "[215]\tvalidation_0-mlogloss:0.42208\tvalidation_1-mlogloss:0.60026\n",
      "[216]\tvalidation_0-mlogloss:0.42040\tvalidation_1-mlogloss:0.59921\n",
      "[217]\tvalidation_0-mlogloss:0.41890\tvalidation_1-mlogloss:0.59815\n",
      "[218]\tvalidation_0-mlogloss:0.41731\tvalidation_1-mlogloss:0.59709\n",
      "[219]\tvalidation_0-mlogloss:0.41589\tvalidation_1-mlogloss:0.59621\n",
      "[220]\tvalidation_0-mlogloss:0.41431\tvalidation_1-mlogloss:0.59509\n",
      "[221]\tvalidation_0-mlogloss:0.41282\tvalidation_1-mlogloss:0.59429\n",
      "[222]\tvalidation_0-mlogloss:0.41136\tvalidation_1-mlogloss:0.59315\n",
      "[223]\tvalidation_0-mlogloss:0.40983\tvalidation_1-mlogloss:0.59218\n",
      "[224]\tvalidation_0-mlogloss:0.40837\tvalidation_1-mlogloss:0.59130\n",
      "[225]\tvalidation_0-mlogloss:0.40672\tvalidation_1-mlogloss:0.59013\n",
      "[226]\tvalidation_0-mlogloss:0.40523\tvalidation_1-mlogloss:0.58914\n",
      "[227]\tvalidation_0-mlogloss:0.40382\tvalidation_1-mlogloss:0.58800\n",
      "[228]\tvalidation_0-mlogloss:0.40226\tvalidation_1-mlogloss:0.58700\n",
      "[229]\tvalidation_0-mlogloss:0.40077\tvalidation_1-mlogloss:0.58601\n",
      "[230]\tvalidation_0-mlogloss:0.39930\tvalidation_1-mlogloss:0.58460\n",
      "[231]\tvalidation_0-mlogloss:0.39787\tvalidation_1-mlogloss:0.58328\n",
      "[232]\tvalidation_0-mlogloss:0.39652\tvalidation_1-mlogloss:0.58229\n",
      "[233]\tvalidation_0-mlogloss:0.39511\tvalidation_1-mlogloss:0.58139\n",
      "[234]\tvalidation_0-mlogloss:0.39385\tvalidation_1-mlogloss:0.58071\n",
      "[235]\tvalidation_0-mlogloss:0.39242\tvalidation_1-mlogloss:0.57964\n",
      "[236]\tvalidation_0-mlogloss:0.39101\tvalidation_1-mlogloss:0.57865\n",
      "[237]\tvalidation_0-mlogloss:0.38950\tvalidation_1-mlogloss:0.57741\n",
      "[238]\tvalidation_0-mlogloss:0.38805\tvalidation_1-mlogloss:0.57643\n",
      "[239]\tvalidation_0-mlogloss:0.38678\tvalidation_1-mlogloss:0.57572\n",
      "[240]\tvalidation_0-mlogloss:0.38557\tvalidation_1-mlogloss:0.57451\n",
      "[241]\tvalidation_0-mlogloss:0.38408\tvalidation_1-mlogloss:0.57359\n",
      "[242]\tvalidation_0-mlogloss:0.38272\tvalidation_1-mlogloss:0.57251\n",
      "[243]\tvalidation_0-mlogloss:0.38127\tvalidation_1-mlogloss:0.57146\n",
      "[244]\tvalidation_0-mlogloss:0.37991\tvalidation_1-mlogloss:0.57041\n",
      "[245]\tvalidation_0-mlogloss:0.37858\tvalidation_1-mlogloss:0.56946\n",
      "[246]\tvalidation_0-mlogloss:0.37730\tvalidation_1-mlogloss:0.56863\n",
      "[247]\tvalidation_0-mlogloss:0.37596\tvalidation_1-mlogloss:0.56766\n",
      "[248]\tvalidation_0-mlogloss:0.37465\tvalidation_1-mlogloss:0.56654\n",
      "[249]\tvalidation_0-mlogloss:0.37318\tvalidation_1-mlogloss:0.56560\n",
      "[250]\tvalidation_0-mlogloss:0.37198\tvalidation_1-mlogloss:0.56464\n",
      "[251]\tvalidation_0-mlogloss:0.37067\tvalidation_1-mlogloss:0.56355\n",
      "[252]\tvalidation_0-mlogloss:0.36934\tvalidation_1-mlogloss:0.56274\n",
      "[253]\tvalidation_0-mlogloss:0.36797\tvalidation_1-mlogloss:0.56153\n",
      "[254]\tvalidation_0-mlogloss:0.36676\tvalidation_1-mlogloss:0.56081\n",
      "[255]\tvalidation_0-mlogloss:0.36555\tvalidation_1-mlogloss:0.55996\n",
      "[256]\tvalidation_0-mlogloss:0.36421\tvalidation_1-mlogloss:0.55901\n",
      "[257]\tvalidation_0-mlogloss:0.36293\tvalidation_1-mlogloss:0.55820\n",
      "[258]\tvalidation_0-mlogloss:0.36167\tvalidation_1-mlogloss:0.55740\n",
      "[259]\tvalidation_0-mlogloss:0.36046\tvalidation_1-mlogloss:0.55634\n",
      "[260]\tvalidation_0-mlogloss:0.35922\tvalidation_1-mlogloss:0.55580\n",
      "[261]\tvalidation_0-mlogloss:0.35787\tvalidation_1-mlogloss:0.55505\n",
      "[262]\tvalidation_0-mlogloss:0.35659\tvalidation_1-mlogloss:0.55400\n",
      "[263]\tvalidation_0-mlogloss:0.35537\tvalidation_1-mlogloss:0.55304\n",
      "[264]\tvalidation_0-mlogloss:0.35427\tvalidation_1-mlogloss:0.55243\n",
      "[265]\tvalidation_0-mlogloss:0.35302\tvalidation_1-mlogloss:0.55141\n"
     ]
    }
   ],
   "execution_count": null
  },
  {
   "metadata": {
    "ExecuteTime": {
     "end_time": "2025-04-14T23:47:48.397834Z",
     "start_time": "2025-04-14T23:47:48.390289Z"
    }
   },
   "cell_type": "code",
   "source": "print(classification_report(y_true=y_test, y_pred=predictions))",
   "id": "68e246deb733cce9",
   "outputs": [
    {
     "name": "stdout",
     "output_type": "stream",
     "text": [
      "              precision    recall  f1-score   support\n",
      "\n",
      "           0       0.95      0.95      0.95       238\n",
      "           1       0.95      0.98      0.96       249\n",
      "           2       0.89      0.89      0.89       283\n",
      "           3       0.93      0.91      0.92       247\n",
      "           4       0.97      0.90      0.93       236\n",
      "           5       0.90      0.92      0.91       243\n",
      "           6       0.95      0.97      0.96       265\n",
      "           7       0.90      0.94      0.92       251\n",
      "           8       0.94      0.90      0.92       232\n",
      "           9       0.87      0.88      0.88       252\n",
      "\n",
      "    accuracy                           0.92      2496\n",
      "   macro avg       0.92      0.92      0.92      2496\n",
      "weighted avg       0.92      0.92      0.92      2496\n",
      "\n"
     ]
    }
   ],
   "execution_count": 157
  },
  {
   "metadata": {
    "jupyter": {
     "is_executing": true
    },
    "ExecuteTime": {
     "start_time": "2025-04-14T19:34:39.966427Z"
    }
   },
   "cell_type": "code",
   "source": [
    "from sklearn.model_selection import GridSearchCV\n",
    "\n",
    "param_grid = {\n",
    "    'n_estimators': [500, 1000, 2000, 3000],\n",
    "    'max_depth': [1, 2, 3],\n",
    "    'learning_rate': [0.02, 0.025, 0.0275],\n",
    "    'subsample': [0.7, 0.75, 0.8]\n",
    "}\n",
    "\n",
    "grid_search = GridSearchCV(\n",
    "    estimator=clf,\n",
    "    param_grid=param_grid,\n",
    "    scoring='accuracy',\n",
    "    cv=5,\n",
    "    n_jobs=-1\n",
    ")\n",
    "\n",
    "# Fit the grid search on the training data\n",
    "grid_search.fit(X_train_scaled, y_train, eval_set=eval_set, verbose=1)\n",
    "\n",
    "print(\"Best Parameters:\", grid_search.best_params_)\n",
    "print(\"Best CV Accuracy:\", grid_search.best_score_)\n",
    "\n",
    "# 6. Evaluate on the test set using the best model\n",
    "best_model = grid_search.best_estimator_\n",
    "y_pred = best_model.predict(X_test_scaled)\n",
    "test_accuracy = accuracy_score(y_test, y_pred)\n",
    "print(\"Test Accuracy with best hyperparameters:\", test_accuracy)"
   ],
   "id": "4080d870a32ef0e3",
   "outputs": [],
   "execution_count": null
  },
  {
   "metadata": {
    "ExecuteTime": {
     "end_time": "2025-04-10T22:12:34.235692Z",
     "start_time": "2025-04-10T22:12:34.114341Z"
    }
   },
   "cell_type": "code",
   "source": [
    "print(classification_report(y_true=y_test, y_pred=y_pred))\n",
    "plot_confusion_matrix(y_test, predictions, labels)"
   ],
   "id": "143e7fae0710c3ec",
   "outputs": [
    {
     "name": "stdout",
     "output_type": "stream",
     "text": [
      "              precision    recall  f1-score   support\n",
      "\n",
      "           0       0.73      0.79      0.76        24\n",
      "           1       0.70      0.78      0.74        18\n",
      "           2       0.76      0.81      0.79        27\n",
      "           3       0.67      0.67      0.67        24\n",
      "           4       0.58      0.75      0.65        20\n",
      "           5       0.78      0.75      0.76        28\n",
      "           6       0.84      0.90      0.87        29\n",
      "           7       0.84      0.91      0.88        23\n",
      "           8       0.86      0.53      0.65        34\n",
      "           9       0.62      0.57      0.59        23\n",
      "\n",
      "    accuracy                           0.74       250\n",
      "   macro avg       0.74      0.75      0.74       250\n",
      "weighted avg       0.75      0.74      0.74       250\n",
      "\n"
     ]
    },
    {
     "data": {
      "text/plain": [
       "<Figure size 1000x700 with 2 Axes>"
      ],
      "image/png": "[encoded data removed]"
     },
     "metadata": {},
     "output_type": "display_data"
    }
   ],
   "execution_count": 53
  },
  {
   "metadata": {
    "ExecuteTime": {
     "end_time": "2025-04-14T23:27:28.466831Z",
     "start_time": "2025-04-14T23:27:28.134415Z"
    }
   },
   "cell_type": "code",
   "source": [
    "clf = KNeighborsClassifier(n_neighbors=3)\n",
    "clf.fit(X_train_scaled, y_train)\n",
    "\n",
    "predictions = clf.predict(X_test_scaled)\n",
    "print('Accuracy:', accuracy_score(y_test, predictions))\n",
    "\n",
    "# Call function:\n",
    "plot_confusion_matrix(y_test, predictions, labels)"
   ],
   "id": "92cd123e0f7e047",
   "outputs": [
    {
     "name": "stdout",
     "output_type": "stream",
     "text": [
      "Accuracy: 0.9006410256410257\n"
     ]
    },
    {
     "data": {
      "text/plain": [
       "<Figure size 1000x700 with 2 Axes>"
      ],
      "image/png": "[encoded data removed]"
     },
     "metadata": {},
     "output_type": "display_data"
    }
   ],
   "execution_count": 122
  },
  {
   "metadata": {
    "ExecuteTime": {
     "end_time": "2025-04-14T23:43:21.442117Z",
     "start_time": "2025-04-14T23:43:21.410210Z"
    }
   },
   "cell_type": "code",
   "source": [
    "from tensorflow.keras import Sequential\n",
    "from tensorflow.keras.layers import Conv2D, MaxPooling2D, Flatten, Dense, Dropout, BatchNormalization, Input\n",
    "\n",
    "X_train_scaled = X_train_scaled.astype(np.float32)\n",
    "\n",
    "input_shape = X_train_scaled.shape[1:]  # (92,)\n",
    "num_classes = len(labels)\n",
    "\n",
    "model = Sequential([\n",
    "    Input(shape=(input_shape)),\n",
    "    Flatten(),\n",
    "    \n",
    "    Dense(512, activation=\"relu\"),\n",
    "    Dropout(0.2),\n",
    "    \n",
    "    Dense(256,activation=\"relu\"),\n",
    "    Dropout(0.2),\n",
    "    \n",
    "    Dense(128,activation=\"relu\"),\n",
    "    Dropout(0.2),\n",
    "    \n",
    "    Dense(64,activation=\"relu\"),\n",
    "    Dropout(0.2),\n",
    "    \n",
    "    Dense(num_classes, activation=\"softmax\"),\n",
    "])\n",
    "\n",
    "model.compile(\n",
    "    optimizer='adam',\n",
    "    loss='categorical_crossentropy',\n",
    "    metrics=['accuracy']\n",
    ")\n",
    "\n",
    "model.summary()"
   ],
   "id": "81d5fb2f6d1e3ae5",
   "outputs": [
    {
     "data": {
      "text/plain": [
       "\u001B[1mModel: \"sequential_14\"\u001B[0m\n"
      ],
      "text/html": [
       "<pre style=\"white-space:pre;overflow-x:auto;line-height:normal;font-family:Menlo,'DejaVu Sans Mono',consolas,'Courier New',monospace\"><span style=\"font-weight: bold\">Model: \"sequential_14\"</span>\n",
       "</pre>\n"
      ]
     },
     "metadata": {},
     "output_type": "display_data"
    },
    {
     "data": {
      "text/plain": [
       "┏━━━━━━━━━━━━━━━━━━━━━━━━━━━━━━━━━┳━━━━━━━━━━━━━━━━━━━━━━━━┳━━━━━━━━━━━━━━━┓\n",
       "┃\u001B[1m \u001B[0m\u001B[1mLayer (type)                   \u001B[0m\u001B[1m \u001B[0m┃\u001B[1m \u001B[0m\u001B[1mOutput Shape          \u001B[0m\u001B[1m \u001B[0m┃\u001B[1m \u001B[0m\u001B[1m      Param #\u001B[0m\u001B[1m \u001B[0m┃\n",
       "┡━━━━━━━━━━━━━━━━━━━━━━━━━━━━━━━━━╇━━━━━━━━━━━━━━━━━━━━━━━━╇━━━━━━━━━━━━━━━┩\n",
       "│ flatten_3 (\u001B[38;5;33mFlatten\u001B[0m)             │ (\u001B[38;5;45mNone\u001B[0m, \u001B[38;5;34m98\u001B[0m)             │             \u001B[38;5;34m0\u001B[0m │\n",
       "├─────────────────────────────────┼────────────────────────┼───────────────┤\n",
       "│ dense_70 (\u001B[38;5;33mDense\u001B[0m)                │ (\u001B[38;5;45mNone\u001B[0m, \u001B[38;5;34m512\u001B[0m)            │        \u001B[38;5;34m50,688\u001B[0m │\n",
       "├─────────────────────────────────┼────────────────────────┼───────────────┤\n",
       "│ dropout_56 (\u001B[38;5;33mDropout\u001B[0m)            │ (\u001B[38;5;45mNone\u001B[0m, \u001B[38;5;34m512\u001B[0m)            │             \u001B[38;5;34m0\u001B[0m │\n",
       "├─────────────────────────────────┼────────────────────────┼───────────────┤\n",
       "│ dense_71 (\u001B[38;5;33mDense\u001B[0m)                │ (\u001B[38;5;45mNone\u001B[0m, \u001B[38;5;34m256\u001B[0m)            │       \u001B[38;5;34m131,328\u001B[0m │\n",
       "├─────────────────────────────────┼────────────────────────┼───────────────┤\n",
       "│ dropout_57 (\u001B[38;5;33mDropout\u001B[0m)            │ (\u001B[38;5;45mNone\u001B[0m, \u001B[38;5;34m256\u001B[0m)            │             \u001B[38;5;34m0\u001B[0m │\n",
       "├─────────────────────────────────┼────────────────────────┼───────────────┤\n",
       "│ dense_72 (\u001B[38;5;33mDense\u001B[0m)                │ (\u001B[38;5;45mNone\u001B[0m, \u001B[38;5;34m128\u001B[0m)            │        \u001B[38;5;34m32,896\u001B[0m │\n",
       "├─────────────────────────────────┼────────────────────────┼───────────────┤\n",
       "│ dropout_58 (\u001B[38;5;33mDropout\u001B[0m)            │ (\u001B[38;5;45mNone\u001B[0m, \u001B[38;5;34m128\u001B[0m)            │             \u001B[38;5;34m0\u001B[0m │\n",
       "├─────────────────────────────────┼────────────────────────┼───────────────┤\n",
       "│ dense_73 (\u001B[38;5;33mDense\u001B[0m)                │ (\u001B[38;5;45mNone\u001B[0m, \u001B[38;5;34m64\u001B[0m)             │         \u001B[38;5;34m8,256\u001B[0m │\n",
       "├─────────────────────────────────┼────────────────────────┼───────────────┤\n",
       "│ dropout_59 (\u001B[38;5;33mDropout\u001B[0m)            │ (\u001B[38;5;45mNone\u001B[0m, \u001B[38;5;34m64\u001B[0m)             │             \u001B[38;5;34m0\u001B[0m │\n",
       "├─────────────────────────────────┼────────────────────────┼───────────────┤\n",
       "│ dense_74 (\u001B[38;5;33mDense\u001B[0m)                │ (\u001B[38;5;45mNone\u001B[0m, \u001B[38;5;34m10\u001B[0m)             │           \u001B[38;5;34m650\u001B[0m │\n",
       "└─────────────────────────────────┴────────────────────────┴───────────────┘\n"
      ],
      "text/html": [
       "<pre style=\"white-space:pre;overflow-x:auto;line-height:normal;font-family:Menlo,'DejaVu Sans Mono',consolas,'Courier New',monospace\">┏━━━━━━━━━━━━━━━━━━━━━━━━━━━━━━━━━┳━━━━━━━━━━━━━━━━━━━━━━━━┳━━━━━━━━━━━━━━━┓\n",
       "┃<span style=\"font-weight: bold\"> Layer (type)                    </span>┃<span style=\"font-weight: bold\"> Output Shape           </span>┃<span style=\"font-weight: bold\">       Param # </span>┃\n",
       "┡━━━━━━━━━━━━━━━━━━━━━━━━━━━━━━━━━╇━━━━━━━━━━━━━━━━━━━━━━━━╇━━━━━━━━━━━━━━━┩\n",
       "│ flatten_3 (<span style=\"color: #0087ff; text-decoration-color: #0087ff\">Flatten</span>)             │ (<span style=\"color: #00d7ff; text-decoration-color: #00d7ff\">None</span>, <span style=\"color: #00af00; text-decoration-color: #00af00\">98</span>)             │             <span style=\"color: #00af00; text-decoration-color: #00af00\">0</span> │\n",
       "├─────────────────────────────────┼────────────────────────┼───────────────┤\n",
       "│ dense_70 (<span style=\"color: #0087ff; text-decoration-color: #0087ff\">Dense</span>)                │ (<span style=\"color: #00d7ff; text-decoration-color: #00d7ff\">None</span>, <span style=\"color: #00af00; text-decoration-color: #00af00\">512</span>)            │        <span style=\"color: #00af00; text-decoration-color: #00af00\">50,688</span> │\n",
       "├─────────────────────────────────┼────────────────────────┼───────────────┤\n",
       "│ dropout_56 (<span style=\"color: #0087ff; text-decoration-color: #0087ff\">Dropout</span>)            │ (<span style=\"color: #00d7ff; text-decoration-color: #00d7ff\">None</span>, <span style=\"color: #00af00; text-decoration-color: #00af00\">512</span>)            │             <span style=\"color: #00af00; text-decoration-color: #00af00\">0</span> │\n",
       "├─────────────────────────────────┼────────────────────────┼───────────────┤\n",
       "│ dense_71 (<span style=\"color: #0087ff; text-decoration-color: #0087ff\">Dense</span>)                │ (<span style=\"color: #00d7ff; text-decoration-color: #00d7ff\">None</span>, <span style=\"color: #00af00; text-decoration-color: #00af00\">256</span>)            │       <span style=\"color: #00af00; text-decoration-color: #00af00\">131,328</span> │\n",
       "├─────────────────────────────────┼────────────────────────┼───────────────┤\n",
       "│ dropout_57 (<span style=\"color: #0087ff; text-decoration-color: #0087ff\">Dropout</span>)            │ (<span style=\"color: #00d7ff; text-decoration-color: #00d7ff\">None</span>, <span style=\"color: #00af00; text-decoration-color: #00af00\">256</span>)            │             <span style=\"color: #00af00; text-decoration-color: #00af00\">0</span> │\n",
       "├─────────────────────────────────┼────────────────────────┼───────────────┤\n",
       "│ dense_72 (<span style=\"color: #0087ff; text-decoration-color: #0087ff\">Dense</span>)                │ (<span style=\"color: #00d7ff; text-decoration-color: #00d7ff\">None</span>, <span style=\"color: #00af00; text-decoration-color: #00af00\">128</span>)            │        <span style=\"color: #00af00; text-decoration-color: #00af00\">32,896</span> │\n",
       "├─────────────────────────────────┼────────────────────────┼───────────────┤\n",
       "│ dropout_58 (<span style=\"color: #0087ff; text-decoration-color: #0087ff\">Dropout</span>)            │ (<span style=\"color: #00d7ff; text-decoration-color: #00d7ff\">None</span>, <span style=\"color: #00af00; text-decoration-color: #00af00\">128</span>)            │             <span style=\"color: #00af00; text-decoration-color: #00af00\">0</span> │\n",
       "├─────────────────────────────────┼────────────────────────┼───────────────┤\n",
       "│ dense_73 (<span style=\"color: #0087ff; text-decoration-color: #0087ff\">Dense</span>)                │ (<span style=\"color: #00d7ff; text-decoration-color: #00d7ff\">None</span>, <span style=\"color: #00af00; text-decoration-color: #00af00\">64</span>)             │         <span style=\"color: #00af00; text-decoration-color: #00af00\">8,256</span> │\n",
       "├─────────────────────────────────┼────────────────────────┼───────────────┤\n",
       "│ dropout_59 (<span style=\"color: #0087ff; text-decoration-color: #0087ff\">Dropout</span>)            │ (<span style=\"color: #00d7ff; text-decoration-color: #00d7ff\">None</span>, <span style=\"color: #00af00; text-decoration-color: #00af00\">64</span>)             │             <span style=\"color: #00af00; text-decoration-color: #00af00\">0</span> │\n",
       "├─────────────────────────────────┼────────────────────────┼───────────────┤\n",
       "│ dense_74 (<span style=\"color: #0087ff; text-decoration-color: #0087ff\">Dense</span>)                │ (<span style=\"color: #00d7ff; text-decoration-color: #00d7ff\">None</span>, <span style=\"color: #00af00; text-decoration-color: #00af00\">10</span>)             │           <span style=\"color: #00af00; text-decoration-color: #00af00\">650</span> │\n",
       "└─────────────────────────────────┴────────────────────────┴───────────────┘\n",
       "</pre>\n"
      ]
     },
     "metadata": {},
     "output_type": "display_data"
    },
    {
     "data": {
      "text/plain": [
       "\u001B[1m Total params: \u001B[0m\u001B[38;5;34m223,818\u001B[0m (874.29 KB)\n"
      ],
      "text/html": [
       "<pre style=\"white-space:pre;overflow-x:auto;line-height:normal;font-family:Menlo,'DejaVu Sans Mono',consolas,'Courier New',monospace\"><span style=\"font-weight: bold\"> Total params: </span><span style=\"color: #00af00; text-decoration-color: #00af00\">223,818</span> (874.29 KB)\n",
       "</pre>\n"
      ]
     },
     "metadata": {},
     "output_type": "display_data"
    },
    {
     "data": {
      "text/plain": [
       "\u001B[1m Trainable params: \u001B[0m\u001B[38;5;34m223,818\u001B[0m (874.29 KB)\n"
      ],
      "text/html": [
       "<pre style=\"white-space:pre;overflow-x:auto;line-height:normal;font-family:Menlo,'DejaVu Sans Mono',consolas,'Courier New',monospace\"><span style=\"font-weight: bold\"> Trainable params: </span><span style=\"color: #00af00; text-decoration-color: #00af00\">223,818</span> (874.29 KB)\n",
       "</pre>\n"
      ]
     },
     "metadata": {},
     "output_type": "display_data"
    },
    {
     "data": {
      "text/plain": [
       "\u001B[1m Non-trainable params: \u001B[0m\u001B[38;5;34m0\u001B[0m (0.00 B)\n"
      ],
      "text/html": [
       "<pre style=\"white-space:pre;overflow-x:auto;line-height:normal;font-family:Menlo,'DejaVu Sans Mono',consolas,'Courier New',monospace\"><span style=\"font-weight: bold\"> Non-trainable params: </span><span style=\"color: #00af00; text-decoration-color: #00af00\">0</span> (0.00 B)\n",
       "</pre>\n"
      ]
     },
     "metadata": {},
     "output_type": "display_data"
    }
   ],
   "execution_count": 150
  },
  {
   "metadata": {
    "ExecuteTime": {
     "end_time": "2025-04-14T23:45:01.997242Z",
     "start_time": "2025-04-14T23:45:01.970935Z"
    }
   },
   "cell_type": "code",
   "source": [
    "history = model.fit(\n",
    "    X_train_scaled, y_train,\n",
    "    epochs=10,\n",
    "    batch_size=1\n",
    ")\n",
    "\n",
    "test_loss, test_acc = model.evaluate(X_test_scaled, y_test, verbose=2)\n",
    "print(f\"Test Accuracy: {test_acc:.2%}\")\n",
    "\n",
    "y_pred = model.predict(X_test).argmax(axis=1)\n",
    "\n",
    "print(classification_report(y_test, y_pred, target_names=labels))\n",
    "\n",
    "# Confusion Matrix\n",
    "cm = confusion_matrix(y_test, y_pred)\n",
    "plt.figure(figsize=(10,7))\n",
    "sns.heatmap(cm, annot=True, fmt='d', xticklabels=labels, yticklabels=labels, cmap='Blues')\n",
    "plt.xlabel('Predicted')\n",
    "plt.ylabel('Actual')\n",
    "plt.title('Confusion Matrix')\n",
    "plt.show()"
   ],
   "id": "6aba7f1f0e052eca",
   "outputs": [
    {
     "ename": "ValueError",
     "evalue": "Unrecognized data type: x=[[0.8575381  0.22484978 0.48176992 ... 0.5364413  0.41528755 0.2150424 ]\n [0.17495601 0.7937097  0.6091198  ... 0.08737864 0.01873134 0.02329603]\n [0.76731944 0.4924673  0.43398514 ... 0.20580734 0.37802386 0.15112194]\n ...\n [0.78251237 0.15620595 0.62870604 ... 0.46033734 0.48771042 0.6010185 ]\n [0.6892472  0.6766435  0.5239334  ... 0.20178068 0.3839444  0.12874566]\n [0.8230996  0.2922182  0.5793012  ... 0.43201646 0.41714746 0.3327129 ]] (of type <class 'numpy.ndarray'>)",
     "output_type": "error",
     "traceback": [
      "\u001B[1;31m---------------------------------------------------------------------------\u001B[0m",
      "\u001B[1;31mValueError\u001B[0m                                Traceback (most recent call last)",
      "Cell \u001B[1;32mIn[152], line 1\u001B[0m\n\u001B[1;32m----> 1\u001B[0m history \u001B[38;5;241m=\u001B[39m \u001B[43mmodel\u001B[49m\u001B[38;5;241;43m.\u001B[39;49m\u001B[43mfit\u001B[49m\u001B[43m(\u001B[49m\n\u001B[0;32m      2\u001B[0m \u001B[43m    \u001B[49m\u001B[43mX_train_scaled\u001B[49m\u001B[43m,\u001B[49m\u001B[43m \u001B[49m\u001B[43my_train\u001B[49m\u001B[43m,\u001B[49m\n\u001B[0;32m      3\u001B[0m \u001B[43m    \u001B[49m\u001B[43mepochs\u001B[49m\u001B[38;5;241;43m=\u001B[39;49m\u001B[38;5;241;43m10\u001B[39;49m\u001B[43m,\u001B[49m\n\u001B[0;32m      4\u001B[0m \u001B[43m    \u001B[49m\u001B[43mbatch_size\u001B[49m\u001B[38;5;241;43m=\u001B[39;49m\u001B[38;5;241;43m1\u001B[39;49m\n\u001B[0;32m      5\u001B[0m \u001B[43m)\u001B[49m\n\u001B[0;32m      7\u001B[0m test_loss, test_acc \u001B[38;5;241m=\u001B[39m model\u001B[38;5;241m.\u001B[39mevaluate(X_test_scaled, y_test, verbose\u001B[38;5;241m=\u001B[39m\u001B[38;5;241m2\u001B[39m)\n\u001B[0;32m      8\u001B[0m \u001B[38;5;28mprint\u001B[39m(\u001B[38;5;124mf\u001B[39m\u001B[38;5;124m\"\u001B[39m\u001B[38;5;124mTest Accuracy: \u001B[39m\u001B[38;5;132;01m{\u001B[39;00mtest_acc\u001B[38;5;132;01m:\u001B[39;00m\u001B[38;5;124m.2%\u001B[39m\u001B[38;5;132;01m}\u001B[39;00m\u001B[38;5;124m\"\u001B[39m)\n",
      "File \u001B[1;32m~\\AppData\\Local\\Programs\\Python\\Python312\\Lib\\site-packages\\keras\\src\\utils\\traceback_utils.py:122\u001B[0m, in \u001B[0;36mfilter_traceback.<locals>.error_handler\u001B[1;34m(*args, **kwargs)\u001B[0m\n\u001B[0;32m    119\u001B[0m     filtered_tb \u001B[38;5;241m=\u001B[39m _process_traceback_frames(e\u001B[38;5;241m.\u001B[39m__traceback__)\n\u001B[0;32m    120\u001B[0m     \u001B[38;5;66;03m# To get the full stack trace, call:\u001B[39;00m\n\u001B[0;32m    121\u001B[0m     \u001B[38;5;66;03m# `keras.config.disable_traceback_filtering()`\u001B[39;00m\n\u001B[1;32m--> 122\u001B[0m     \u001B[38;5;28;01mraise\u001B[39;00m e\u001B[38;5;241m.\u001B[39mwith_traceback(filtered_tb) \u001B[38;5;28;01mfrom\u001B[39;00m\u001B[38;5;250m \u001B[39m\u001B[38;5;28;01mNone\u001B[39;00m\n\u001B[0;32m    123\u001B[0m \u001B[38;5;28;01mfinally\u001B[39;00m:\n\u001B[0;32m    124\u001B[0m     \u001B[38;5;28;01mdel\u001B[39;00m filtered_tb\n",
      "File \u001B[1;32m~\\AppData\\Local\\Programs\\Python\\Python312\\Lib\\site-packages\\keras\\src\\trainers\\data_adapters\\__init__.py:125\u001B[0m, in \u001B[0;36mget_data_adapter\u001B[1;34m(x, y, sample_weight, batch_size, steps_per_epoch, shuffle, class_weight)\u001B[0m\n\u001B[0;32m    117\u001B[0m     \u001B[38;5;28;01mreturn\u001B[39;00m GeneratorDataAdapter(x)\n\u001B[0;32m    118\u001B[0m     \u001B[38;5;66;03m# TODO: should we warn or not?\u001B[39;00m\n\u001B[0;32m    119\u001B[0m     \u001B[38;5;66;03m# warnings.warn(\u001B[39;00m\n\u001B[0;32m    120\u001B[0m     \u001B[38;5;66;03m#     \"`shuffle=True` was passed, but will be ignored since the \"\u001B[39;00m\n\u001B[1;32m   (...)\u001B[0m\n\u001B[0;32m    123\u001B[0m     \u001B[38;5;66;03m# )\u001B[39;00m\n\u001B[0;32m    124\u001B[0m \u001B[38;5;28;01melse\u001B[39;00m:\n\u001B[1;32m--> 125\u001B[0m     \u001B[38;5;28;01mraise\u001B[39;00m \u001B[38;5;167;01mValueError\u001B[39;00m(\u001B[38;5;124mf\u001B[39m\u001B[38;5;124m\"\u001B[39m\u001B[38;5;124mUnrecognized data type: x=\u001B[39m\u001B[38;5;132;01m{\u001B[39;00mx\u001B[38;5;132;01m}\u001B[39;00m\u001B[38;5;124m (of type \u001B[39m\u001B[38;5;132;01m{\u001B[39;00m\u001B[38;5;28mtype\u001B[39m(x)\u001B[38;5;132;01m}\u001B[39;00m\u001B[38;5;124m)\u001B[39m\u001B[38;5;124m\"\u001B[39m)\n",
      "\u001B[1;31mValueError\u001B[0m: Unrecognized data type: x=[[0.8575381  0.22484978 0.48176992 ... 0.5364413  0.41528755 0.2150424 ]\n [0.17495601 0.7937097  0.6091198  ... 0.08737864 0.01873134 0.02329603]\n [0.76731944 0.4924673  0.43398514 ... 0.20580734 0.37802386 0.15112194]\n ...\n [0.78251237 0.15620595 0.62870604 ... 0.46033734 0.48771042 0.6010185 ]\n [0.6892472  0.6766435  0.5239334  ... 0.20178068 0.3839444  0.12874566]\n [0.8230996  0.2922182  0.5793012  ... 0.43201646 0.41714746 0.3327129 ]] (of type <class 'numpy.ndarray'>)"
     ]
    }
   ],
   "execution_count": 152
  },
  {
   "metadata": {},
   "cell_type": "code",
   "outputs": [],
   "execution_count": null,
   "source": "",
   "id": "51e73d7c9d7fe00e"
  }
 ],
 "metadata": {
  "kernelspec": {
   "display_name": "Python 3",
   "language": "python",
   "name": "python3"
  },
  "language_info": {
   "codemirror_mode": {
    "name": "ipython",
    "version": 2
   },
   "file_extension": ".py",
   "mimetype": "text/x-python",
   "name": "python",
   "nbconvert_exporter": "python",
   "pygments_lexer": "ipython2",
   "version": "2.7.6"
  }
 },
 "nbformat": 4,
 "nbformat_minor": 5
}
